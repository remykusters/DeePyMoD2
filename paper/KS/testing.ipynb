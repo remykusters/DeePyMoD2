{
 "cells": [
  {
   "cell_type": "code",
   "execution_count": 8,
   "metadata": {},
   "outputs": [],
   "source": [
    "import numpy as np\n",
    "import torch\n",
    "from scipy.io import loadmat\n",
    "\n",
    "# DeepMoD stuff\n",
    "from deepymod_torch import DeepMoD\n",
    "from deepymod_torch.model.func_approx import NN\n",
    "from deepymod_torch.model.library import Library1D\n",
    "from deepymod_torch.model.constraint import LeastSquares\n",
    "from deepymod_torch.model.sparse_estimators import  Threshold, PDEFIND\n",
    "from deepymod_torch.training import train_split_full\n",
    "from deepymod_torch.training.sparsity_scheduler import TrainTestPeriodic\n",
    "\n",
    "if torch.cuda.is_available():\n",
    "    device ='cuda'\n",
    "else:\n",
    "    device = 'cpu'\n",
    "\n",
    "# Settings for reproducibility\n",
    "np.random.seed(42)\n",
    "torch.manual_seed(0)\n",
    "torch.backends.cudnn.deterministic = True\n",
    "torch.backends.cudnn.benchmark = False"
   ]
  },
  {
   "cell_type": "code",
   "execution_count": 9,
   "metadata": {},
   "outputs": [],
   "source": [
    "# Prepping data\n",
    "data = loadmat('kuramoto_sivishinky.mat')\n",
    "\n",
    "t = data['tt']\n",
    "x = data['x']\n",
    "u = data['uu']\n",
    "x_grid, t_grid = np.meshgrid(x, t, indexing='ij')\n",
    "\n",
    "x_grid = x_grid[:, :100]\n",
    "t_grid = t_grid[:, :100]\n",
    "u = u[:, :100]\n",
    "\n",
    "X = np.transpose((t_grid.flatten(), x_grid.flatten()))\n",
    "y = u.reshape((u.size, 1))\n",
    "\n",
    "noise_level = 0.05\n",
    "y_noisy = y + noise_level * np.std(y) * np.random.randn(y[:,0].size, 1)\n",
    "number_of_samples = 25000\n",
    "\n",
    "idx = np.random.permutation(y.shape[0])\n",
    "X = torch.tensor(X[idx, :][:number_of_samples], dtype=torch.float32).to(device)\n",
    "y = torch.tensor(y_noisy[idx, :][:number_of_samples], dtype=torch.float32).to(device)"
   ]
  },
  {
   "cell_type": "code",
   "execution_count": 10,
   "metadata": {},
   "outputs": [],
   "source": [
    "network = NN(2, [30, 30, 30, 30, 30, 30, 30], 1)\n",
    "library = Library1D(poly_order=1, diff_order=4) # Library function\n",
    "estimator = PDEFIND(lam=1e-4) # Sparse estimator \n",
    "constraint = LeastSquares() # How to constrain\n",
    "model = DeepMoD(network, library, estimator, constraint).to(device) # Putting it all in the model"
   ]
  },
  {
   "cell_type": "code",
   "execution_count": 11,
   "metadata": {},
   "outputs": [],
   "source": [
    "sparsity_scheduler = TrainTestPeriodic(periodicity=50, patience=8, delta=1e-5) # in terms of write iterations\n",
    "optimizer = torch.optim.Adam(model.parameters(), betas=(0.99, 0.999), amsgrad=True, lr=2e-3) # Defining optimizer"
   ]
  },
  {
   "cell_type": "code",
   "execution_count": null,
   "metadata": {},
   "outputs": [
    {
     "name": "stdout",
     "output_type": "stream",
     "text": [
      "| Iteration | Progress | Time remaining |     Loss |      MSE |      Reg |    L1 norm |\n",
      "      12025     12.03%            7536s   3.16e-02   3.04e-02   1.20e-03   2.22e+00 "
     ]
    }
   ],
   "source": [
    "train_split_full(model, X, y, optimizer,sparsity_scheduler, log_dir='runs/noisy_0.05_bigger_net/', split=0.8, test='full', write_iterations=25, max_iterations=100000, delta=1e-5, patience=20) "
   ]
  },
  {
   "cell_type": "code",
   "execution_count": null,
   "metadata": {},
   "outputs": [],
   "source": []
  }
 ],
 "metadata": {
  "kernelspec": {
   "display_name": "Python 3",
   "language": "python",
   "name": "python3"
  },
  "language_info": {
   "codemirror_mode": {
    "name": "ipython",
    "version": 3
   },
   "file_extension": ".py",
   "mimetype": "text/x-python",
   "name": "python",
   "nbconvert_exporter": "python",
   "pygments_lexer": "ipython3",
   "version": "3.8.3"
  }
 },
 "nbformat": 4,
 "nbformat_minor": 4
}
